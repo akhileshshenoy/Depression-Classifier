{
 "cells": [
  {
   "cell_type": "code",
   "execution_count": 18,
   "metadata": {
    "collapsed": true
   },
   "outputs": [],
   "source": [
    "import pandas as pd\n",
    "import numpy as np\n",
    "import os"
   ]
  },
  {
   "cell_type": "code",
   "execution_count": 19,
   "metadata": {
    "collapsed": true
   },
   "outputs": [],
   "source": [
    "data = pd.read_csv('neg.txt',header = None)"
   ]
  },
  {
   "cell_type": "code",
   "execution_count": null,
   "metadata": {
    "collapsed": false
   },
   "outputs": [],
   "source": []
  },
  {
   "cell_type": "code",
   "execution_count": 20,
   "metadata": {
    "collapsed": false
   },
   "outputs": [],
   "source": [
    "\n",
    "data = np.array(data)"
   ]
  },
  {
   "cell_type": "code",
   "execution_count": null,
   "metadata": {
    "collapsed": false
   },
   "outputs": [],
   "source": []
  },
  {
   "cell_type": "code",
   "execution_count": 21,
   "metadata": {
    "collapsed": false
   },
   "outputs": [
    {
     "data": {
      "text/html": [
       "<div>\n",
       "<table border=\"1\" class=\"dataframe\">\n",
       "  <thead>\n",
       "    <tr style=\"text-align: right;\">\n",
       "      <th></th>\n",
       "      <th>speaker</th>\n",
       "      <th>value</th>\n",
       "    </tr>\n",
       "  </thead>\n",
       "  <tbody>\n",
       "    <tr>\n",
       "      <th>0</th>\n",
       "      <td>Ellie</td>\n",
       "      <td>hi i'm ellie thanks for coming in today</td>\n",
       "    </tr>\n",
       "    <tr>\n",
       "      <th>1</th>\n",
       "      <td>Ellie</td>\n",
       "      <td>i was created to talk to people in a safe and ...</td>\n",
       "    </tr>\n",
       "    <tr>\n",
       "      <th>2</th>\n",
       "      <td>Ellie</td>\n",
       "      <td>i'm not a therapist but i'm here to learn abou...</td>\n",
       "    </tr>\n",
       "    <tr>\n",
       "      <th>3</th>\n",
       "      <td>Ellie</td>\n",
       "      <td>and please feel free to tell me anything your ...</td>\n",
       "    </tr>\n",
       "    <tr>\n",
       "      <th>4</th>\n",
       "      <td>Ellie</td>\n",
       "      <td>are you okay with this</td>\n",
       "    </tr>\n",
       "    <tr>\n",
       "      <th>5</th>\n",
       "      <td>Participant</td>\n",
       "      <td>sure</td>\n",
       "    </tr>\n",
       "    <tr>\n",
       "      <th>6</th>\n",
       "      <td>Ellie</td>\n",
       "      <td>okay</td>\n",
       "    </tr>\n",
       "    <tr>\n",
       "      <th>7</th>\n",
       "      <td>Ellie</td>\n",
       "      <td>so how are you doing today</td>\n",
       "    </tr>\n",
       "    <tr>\n",
       "      <th>8</th>\n",
       "      <td>Participant</td>\n",
       "      <td>i'm doing fine just a little tired</td>\n",
       "    </tr>\n",
       "    <tr>\n",
       "      <th>9</th>\n",
       "      <td>Ellie</td>\n",
       "      <td>that's good</td>\n",
       "    </tr>\n",
       "    <tr>\n",
       "      <th>10</th>\n",
       "      <td>Ellie</td>\n",
       "      <td>where are you from originally</td>\n",
       "    </tr>\n",
       "    <tr>\n",
       "      <th>11</th>\n",
       "      <td>Participant</td>\n",
       "      <td>california</td>\n",
       "    </tr>\n",
       "    <tr>\n",
       "      <th>12</th>\n",
       "      <td>Ellie</td>\n",
       "      <td>really</td>\n",
       "    </tr>\n",
       "    <tr>\n",
       "      <th>13</th>\n",
       "      <td>Ellie</td>\n",
       "      <td>what are some things you really like about l_a</td>\n",
       "    </tr>\n",
       "    <tr>\n",
       "      <th>14</th>\n",
       "      <td>Participant</td>\n",
       "      <td>yes</td>\n",
       "    </tr>\n",
       "    <tr>\n",
       "      <th>15</th>\n",
       "      <td>Participant</td>\n",
       "      <td>um the weather</td>\n",
       "    </tr>\n",
       "    <tr>\n",
       "      <th>16</th>\n",
       "      <td>Participant</td>\n",
       "      <td>&lt;laughter&gt; not last week but yeah the weather ...</td>\n",
       "    </tr>\n",
       "    <tr>\n",
       "      <th>17</th>\n",
       "      <td>Ellie</td>\n",
       "      <td>mhm</td>\n",
       "    </tr>\n",
       "    <tr>\n",
       "      <th>18</th>\n",
       "      <td>Ellie</td>\n",
       "      <td>what are some things you don't really like abo...</td>\n",
       "    </tr>\n",
       "    <tr>\n",
       "      <th>19</th>\n",
       "      <td>Participant</td>\n",
       "      <td>fear of earthquakes</td>\n",
       "    </tr>\n",
       "    <tr>\n",
       "      <th>20</th>\n",
       "      <td>Ellie</td>\n",
       "      <td>mhm</td>\n",
       "    </tr>\n",
       "    <tr>\n",
       "      <th>21</th>\n",
       "      <td>Ellie</td>\n",
       "      <td>i see what you mean</td>\n",
       "    </tr>\n",
       "    <tr>\n",
       "      <th>22</th>\n",
       "      <td>Ellie</td>\n",
       "      <td>what'd you study at school</td>\n",
       "    </tr>\n",
       "    <tr>\n",
       "      <th>23</th>\n",
       "      <td>Participant</td>\n",
       "      <td>psychology</td>\n",
       "    </tr>\n",
       "    <tr>\n",
       "      <th>24</th>\n",
       "      <td>Ellie</td>\n",
       "      <td>cool</td>\n",
       "    </tr>\n",
       "    <tr>\n",
       "      <th>25</th>\n",
       "      <td>Ellie</td>\n",
       "      <td>are you still working in that</td>\n",
       "    </tr>\n",
       "    <tr>\n",
       "      <th>26</th>\n",
       "      <td>Participant</td>\n",
       "      <td>i am</td>\n",
       "    </tr>\n",
       "    <tr>\n",
       "      <th>27</th>\n",
       "      <td>Participant</td>\n",
       "      <td>i go to harbor college</td>\n",
       "    </tr>\n",
       "    <tr>\n",
       "      <th>28</th>\n",
       "      <td>Ellie</td>\n",
       "      <td>are you happy you did that</td>\n",
       "    </tr>\n",
       "    <tr>\n",
       "      <th>29</th>\n",
       "      <td>Participant</td>\n",
       "      <td>i am</td>\n",
       "    </tr>\n",
       "    <tr>\n",
       "      <th>...</th>\n",
       "      <td>...</td>\n",
       "      <td>...</td>\n",
       "    </tr>\n",
       "    <tr>\n",
       "      <th>246</th>\n",
       "      <td>Participant</td>\n",
       "      <td>different resources to help him as opposed to ...</td>\n",
       "    </tr>\n",
       "    <tr>\n",
       "      <th>247</th>\n",
       "      <td>Ellie</td>\n",
       "      <td>uh huh</td>\n",
       "    </tr>\n",
       "    <tr>\n",
       "      <th>248</th>\n",
       "      <td>Ellie</td>\n",
       "      <td>yeah</td>\n",
       "    </tr>\n",
       "    <tr>\n",
       "      <th>249</th>\n",
       "      <td>Ellie</td>\n",
       "      <td>that's good</td>\n",
       "    </tr>\n",
       "    <tr>\n",
       "      <th>250</th>\n",
       "      <td>Participant</td>\n",
       "      <td>thank you</td>\n",
       "    </tr>\n",
       "    <tr>\n",
       "      <th>251</th>\n",
       "      <td>Ellie</td>\n",
       "      <td>have you been diagnosed with depression</td>\n",
       "    </tr>\n",
       "    <tr>\n",
       "      <th>252</th>\n",
       "      <td>Participant</td>\n",
       "      <td>no</td>\n",
       "    </tr>\n",
       "    <tr>\n",
       "      <th>253</th>\n",
       "      <td>Ellie</td>\n",
       "      <td>do you feel down</td>\n",
       "    </tr>\n",
       "    <tr>\n",
       "      <th>254</th>\n",
       "      <td>Participant</td>\n",
       "      <td>occasionally</td>\n",
       "    </tr>\n",
       "    <tr>\n",
       "      <th>255</th>\n",
       "      <td>Participant</td>\n",
       "      <td>who doesn't &lt;laughter&gt;</td>\n",
       "    </tr>\n",
       "    <tr>\n",
       "      <th>256</th>\n",
       "      <td>Ellie</td>\n",
       "      <td>yeah</td>\n",
       "    </tr>\n",
       "    <tr>\n",
       "      <th>257</th>\n",
       "      <td>Ellie</td>\n",
       "      <td>what are you most proud of in your life</td>\n",
       "    </tr>\n",
       "    <tr>\n",
       "      <th>258</th>\n",
       "      <td>Participant</td>\n",
       "      <td>i don't know can we skip that question</td>\n",
       "    </tr>\n",
       "    <tr>\n",
       "      <th>259</th>\n",
       "      <td>Participant</td>\n",
       "      <td>&lt;laughter&gt;</td>\n",
       "    </tr>\n",
       "    <tr>\n",
       "      <th>260</th>\n",
       "      <td>Ellie</td>\n",
       "      <td>okay</td>\n",
       "    </tr>\n",
       "    <tr>\n",
       "      <th>261</th>\n",
       "      <td>Ellie</td>\n",
       "      <td>how would your best friend describe you</td>\n",
       "    </tr>\n",
       "    <tr>\n",
       "      <th>262</th>\n",
       "      <td>Participant</td>\n",
       "      <td>&lt;sigh&gt; green &lt;laughter&gt; seems to be the word k...</td>\n",
       "    </tr>\n",
       "    <tr>\n",
       "      <th>263</th>\n",
       "      <td>Participant</td>\n",
       "      <td>yeah probably green like</td>\n",
       "    </tr>\n",
       "    <tr>\n",
       "      <th>264</th>\n",
       "      <td>Participant</td>\n",
       "      <td>naive a little &lt;laughter&gt;</td>\n",
       "    </tr>\n",
       "    <tr>\n",
       "      <th>265</th>\n",
       "      <td>Ellie</td>\n",
       "      <td>mhm</td>\n",
       "    </tr>\n",
       "    <tr>\n",
       "      <th>266</th>\n",
       "      <td>Participant</td>\n",
       "      <td>but at the same time smart i think she'll desc...</td>\n",
       "    </tr>\n",
       "    <tr>\n",
       "      <th>267</th>\n",
       "      <td>Ellie</td>\n",
       "      <td>that's great</td>\n",
       "    </tr>\n",
       "    <tr>\n",
       "      <th>268</th>\n",
       "      <td>Participant</td>\n",
       "      <td>mhm</td>\n",
       "    </tr>\n",
       "    <tr>\n",
       "      <th>269</th>\n",
       "      <td>Ellie</td>\n",
       "      <td>okay i think i've asked everything i need to</td>\n",
       "    </tr>\n",
       "    <tr>\n",
       "      <th>270</th>\n",
       "      <td>Participant</td>\n",
       "      <td>yeah</td>\n",
       "    </tr>\n",
       "    <tr>\n",
       "      <th>271</th>\n",
       "      <td>Participant</td>\n",
       "      <td>okay</td>\n",
       "    </tr>\n",
       "    <tr>\n",
       "      <th>272</th>\n",
       "      <td>Ellie</td>\n",
       "      <td>thanks for sharing your thoughts with me</td>\n",
       "    </tr>\n",
       "    <tr>\n",
       "      <th>273</th>\n",
       "      <td>Participant</td>\n",
       "      <td>no problem</td>\n",
       "    </tr>\n",
       "    <tr>\n",
       "      <th>274</th>\n",
       "      <td>Ellie</td>\n",
       "      <td>goodbye</td>\n",
       "    </tr>\n",
       "    <tr>\n",
       "      <th>275</th>\n",
       "      <td>Participant</td>\n",
       "      <td>bye</td>\n",
       "    </tr>\n",
       "  </tbody>\n",
       "</table>\n",
       "<p>276 rows × 2 columns</p>\n",
       "</div>"
      ],
      "text/plain": [
       "         speaker                                              value\n",
       "0          Ellie            hi i'm ellie thanks for coming in today\n",
       "1          Ellie  i was created to talk to people in a safe and ...\n",
       "2          Ellie  i'm not a therapist but i'm here to learn abou...\n",
       "3          Ellie  and please feel free to tell me anything your ...\n",
       "4          Ellie                             are you okay with this\n",
       "5    Participant                                               sure\n",
       "6          Ellie                                               okay\n",
       "7          Ellie                         so how are you doing today\n",
       "8    Participant                 i'm doing fine just a little tired\n",
       "9          Ellie                                        that's good\n",
       "10         Ellie                      where are you from originally\n",
       "11   Participant                                         california\n",
       "12         Ellie                                             really\n",
       "13         Ellie     what are some things you really like about l_a\n",
       "14   Participant                                                yes\n",
       "15   Participant                                     um the weather\n",
       "16   Participant  <laughter> not last week but yeah the weather ...\n",
       "17         Ellie                                                mhm\n",
       "18         Ellie  what are some things you don't really like abo...\n",
       "19   Participant                                fear of earthquakes\n",
       "20         Ellie                                                mhm\n",
       "21         Ellie                                i see what you mean\n",
       "22         Ellie                         what'd you study at school\n",
       "23   Participant                                         psychology\n",
       "24         Ellie                                               cool\n",
       "25         Ellie                      are you still working in that\n",
       "26   Participant                                               i am\n",
       "27   Participant                             i go to harbor college\n",
       "28         Ellie                         are you happy you did that\n",
       "29   Participant                                               i am\n",
       "..           ...                                                ...\n",
       "246  Participant  different resources to help him as opposed to ...\n",
       "247        Ellie                                             uh huh\n",
       "248        Ellie                                               yeah\n",
       "249        Ellie                                        that's good\n",
       "250  Participant                                          thank you\n",
       "251        Ellie            have you been diagnosed with depression\n",
       "252  Participant                                                 no\n",
       "253        Ellie                                   do you feel down\n",
       "254  Participant                                       occasionally\n",
       "255  Participant                             who doesn't <laughter>\n",
       "256        Ellie                                               yeah\n",
       "257        Ellie            what are you most proud of in your life\n",
       "258  Participant             i don't know can we skip that question\n",
       "259  Participant                                         <laughter>\n",
       "260        Ellie                                               okay\n",
       "261        Ellie            how would your best friend describe you\n",
       "262  Participant  <sigh> green <laughter> seems to be the word k...\n",
       "263  Participant                           yeah probably green like\n",
       "264  Participant                          naive a little <laughter>\n",
       "265        Ellie                                                mhm\n",
       "266  Participant  but at the same time smart i think she'll desc...\n",
       "267        Ellie                                      that's great \n",
       "268  Participant                                                mhm\n",
       "269        Ellie       okay i think i've asked everything i need to\n",
       "270  Participant                                               yeah\n",
       "271  Participant                                               okay\n",
       "272        Ellie           thanks for sharing your thoughts with me\n",
       "273  Participant                                         no problem\n",
       "274        Ellie                                            goodbye\n",
       "275  Participant                                                bye\n",
       "\n",
       "[276 rows x 2 columns]"
      ]
     },
     "execution_count": 21,
     "metadata": {},
     "output_type": "execute_result"
    }
   ],
   "source": [
    "trans = pd.read_csv('./341/341_TRANSCRIPT.csv',sep='\\t')\n",
    "\n",
    "trans.drop(['start_time','stop_time'],axis =1)"
   ]
  },
  {
   "cell_type": "code",
   "execution_count": 22,
   "metadata": {
    "collapsed": false
   },
   "outputs": [],
   "source": [
    "neg_words = []\n",
    "for i in range(0,trans.shape[0]):\n",
    "    if trans.iloc[i,2] == 'Participant':\n",
    "        array = trans.iloc[i,3].split()\n",
    "        neg_words.append([x for x in array if x in data])"
   ]
  },
  {
   "cell_type": "code",
   "execution_count": 23,
   "metadata": {
    "collapsed": false
   },
   "outputs": [
    {
     "data": {
      "text/plain": [
       "[['tired'],\n",
       " ['fear'],\n",
       " ['sorry'],\n",
       " ['mad'],\n",
       " ['frustrations'],\n",
       " ['hard'],\n",
       " ['bad'],\n",
       " ['bad'],\n",
       " ['regrets'],\n",
       " ['deter'],\n",
       " ['temper'],\n",
       " ['frustrate', 'anger'],\n",
       " ['hate', 'frustrated'],\n",
       " ['mad'],\n",
       " ['intrusive'],\n",
       " ['bad'],\n",
       " ['frustrated'],\n",
       " ['fault'],\n",
       " ['hurt'],\n",
       " ['tired'],\n",
       " ['bad'],\n",
       " ['moody'],\n",
       " ['irritable'],\n",
       " ['bad'],\n",
       " ['sorry', 'sorry'],\n",
       " ['guilty', 'sad', 'depressed'],\n",
       " ['naive'],\n",
       " ['problem']]"
      ]
     },
     "execution_count": 23,
     "metadata": {},
     "output_type": "execute_result"
    }
   ],
   "source": [
    "neg_words = [x for x in neg_words if x!=[]]\n",
    "neg_words"
   ]
  },
  {
   "cell_type": "code",
   "execution_count": 24,
   "metadata": {
    "collapsed": false
   },
   "outputs": [],
   "source": [
    "#neg_words = np.asarray(neg_words)\n",
    "b = []\n",
    "for i in range(len(neg_words)):\n",
    "    b.append(\",\".join(neg_words[i]))"
   ]
  },
  {
   "cell_type": "code",
   "execution_count": 25,
   "metadata": {
    "collapsed": false
   },
   "outputs": [
    {
     "data": {
      "text/plain": [
       "['tired',\n",
       " 'fear',\n",
       " 'sorry',\n",
       " 'mad',\n",
       " 'frustrations',\n",
       " 'hard',\n",
       " 'bad',\n",
       " 'bad',\n",
       " 'regrets',\n",
       " 'deter',\n",
       " 'temper',\n",
       " 'frustrate,anger',\n",
       " 'hate,frustrated',\n",
       " 'mad',\n",
       " 'intrusive',\n",
       " 'bad',\n",
       " 'frustrated',\n",
       " 'fault',\n",
       " 'hurt',\n",
       " 'tired',\n",
       " 'bad',\n",
       " 'moody',\n",
       " 'irritable',\n",
       " 'bad',\n",
       " 'sorry,sorry',\n",
       " 'guilty,sad,depressed',\n",
       " 'naive',\n",
       " 'problem']"
      ]
     },
     "execution_count": 25,
     "metadata": {},
     "output_type": "execute_result"
    }
   ],
   "source": [
    "b"
   ]
  },
  {
   "cell_type": "code",
   "execution_count": 32,
   "metadata": {
    "collapsed": false
   },
   "outputs": [
    {
     "data": {
      "text/plain": [
       "['tired',\n",
       " 'fear',\n",
       " 'sorry',\n",
       " 'mad',\n",
       " 'frustrations',\n",
       " 'hard',\n",
       " 'bad',\n",
       " 'bad',\n",
       " 'regrets',\n",
       " 'deter',\n",
       " 'temper',\n",
       " 'mad',\n",
       " 'intrusive',\n",
       " 'bad',\n",
       " 'frustrated',\n",
       " 'fault',\n",
       " 'hurt',\n",
       " 'tired',\n",
       " 'bad',\n",
       " 'moody',\n",
       " 'irritable',\n",
       " 'bad',\n",
       " 'naive',\n",
       " 'problem',\n",
       " 'frustrate',\n",
       " 'anger',\n",
       " 'hate',\n",
       " 'frustrated',\n",
       " 'sorry',\n",
       " 'sorry',\n",
       " 'guilty',\n",
       " 'sad',\n",
       " 'depressed']"
      ]
     },
     "execution_count": 32,
     "metadata": {},
     "output_type": "execute_result"
    }
   ],
   "source": [
    "new_arr = []\n",
    "new = []\n",
    "for i in range(len(b)):\n",
    "    if ',' in b[i]:\n",
    "        for j in range(len(b[i].split(','))):\n",
    "            new_arr.append(b[i].split(',')[j])\n",
    "    else:\n",
    "        new.append(b[i])\n",
    "\n",
    "        \n",
    "        \n",
    "f = new + new_arr\n",
    "            \n",
    "f       \n"
   ]
  },
  {
   "cell_type": "code",
   "execution_count": 33,
   "metadata": {
    "collapsed": false
   },
   "outputs": [],
   "source": [
    "x = np.array(f)"
   ]
  },
  {
   "cell_type": "code",
   "execution_count": 34,
   "metadata": {
    "collapsed": false
   },
   "outputs": [
    {
     "data": {
      "text/plain": [
       "array(['tired', 'fear', 'sorry', 'mad', 'frustrations', 'hard', 'bad',\n",
       "       'bad', 'regrets', 'deter', 'temper', 'mad', 'intrusive', 'bad',\n",
       "       'frustrated', 'fault', 'hurt', 'tired', 'bad', 'moody', 'irritable',\n",
       "       'bad', 'naive', 'problem', 'frustrate', 'anger', 'hate',\n",
       "       'frustrated', 'sorry', 'sorry', 'guilty', 'sad', 'depressed'], \n",
       "      dtype='<U12')"
      ]
     },
     "execution_count": 34,
     "metadata": {},
     "output_type": "execute_result"
    }
   ],
   "source": [
    "x"
   ]
  },
  {
   "cell_type": "code",
   "execution_count": 38,
   "metadata": {
    "collapsed": false
   },
   "outputs": [],
   "source": []
  },
  {
   "cell_type": "markdown",
   "metadata": {},
   "source": []
  },
  {
   "cell_type": "code",
   "execution_count": 39,
   "metadata": {
    "collapsed": false
   },
   "outputs": [
    {
     "data": {
      "text/plain": [
       "array(['anger', 'bad', 'depressed', 'deter', 'fault', 'fear', 'frustrate',\n",
       "       'frustrated', 'frustrations', 'guilty', 'hard', 'hate', 'hurt',\n",
       "       'intrusive', 'irritable', 'mad', 'moody', 'naive', 'problem',\n",
       "       'regrets', 'sad', 'sorry', 'temper', 'tired'], \n",
       "      dtype='<U12')"
      ]
     },
     "execution_count": 39,
     "metadata": {},
     "output_type": "execute_result"
    }
   ],
   "source": [
    "    y"
   ]
  },
  {
   "cell_type": "code",
   "execution_count": null,
   "metadata": {
    "collapsed": false
   },
   "outputs": [],
   "source": []
  },
  {
   "cell_type": "code",
   "execution_count": null,
   "metadata": {
    "collapsed": true
   },
   "outputs": [],
   "source": []
  }
 ],
 "metadata": {
  "kernelspec": {
   "display_name": "Python 3",
   "language": "python",
   "name": "python3"
  },
  "language_info": {
   "codemirror_mode": {
    "name": "ipython",
    "version": 3
   },
   "file_extension": ".py",
   "mimetype": "text/x-python",
   "name": "python",
   "nbconvert_exporter": "python",
   "pygments_lexer": "ipython3",
   "version": "3.6.0"
  }
 },
 "nbformat": 4,
 "nbformat_minor": 2
}
